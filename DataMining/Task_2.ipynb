{
 "cells": [
  {
   "cell_type": "code",
   "execution_count": 1,
   "metadata": {},
   "outputs": [
    {
     "name": "stdout",
     "output_type": "stream",
     "text": [
      "Initial DataFrame:\n",
      "   Region   Age   Income Online Shopper\n",
      "0   India  49.0  86400.0             No\n",
      "1  Brazil  32.0  57600.0            Yes\n",
      "2     USA  35.0  64800.0             No\n",
      "3  Brazil  43.0  73200.0             No\n",
      "4     USA  45.0      NaN            Yes\n",
      "5   India  40.0  69600.0            Yes\n",
      "6  Brazil   NaN  62400.0             No\n",
      "7   India  53.0  94800.0            Yes\n",
      "8     USA  55.0  99600.0             No\n",
      "9   India  42.0  80400.0            Yes\n",
      "\n",
      "Cleaned DataFrame:\n",
      "   Region        Age        Income  Online Shopper\n",
      "0       1  49.000000  86400.000000               0\n",
      "1       0  32.000000  57600.000000               1\n",
      "2       2  35.000000  64800.000000               0\n",
      "3       0  43.000000  73200.000000               0\n",
      "4       2  45.000000  76533.333333               1\n",
      "5       1  40.000000  69600.000000               1\n",
      "6       0  43.777778  62400.000000               0\n",
      "7       1  53.000000  94800.000000               1\n",
      "8       2  55.000000  99600.000000               0\n",
      "9       1  42.000000  80400.000000               1\n"
     ]
    }
   ],
   "source": [
    "import pandas as pd\n",
    "from sklearn.impute import SimpleImputer\n",
    "from sklearn.preprocessing import LabelEncoder\n",
    "\n",
    "df = pd.read_csv('country-income.csv')\n",
    "\n",
    "print(\"Initial DataFrame:\")\n",
    "print(df)\n",
    "\n",
    "numerical_columns = df.select_dtypes(include=['float64', 'int64']).columns\n",
    "categorical_columns = df.select_dtypes(include=['object']).columns\n",
    "\n",
    "imputer = SimpleImputer(strategy='mean')\n",
    "df[numerical_columns] = imputer.fit_transform(df[numerical_columns])\n",
    "\n",
    "label_encoder = LabelEncoder()\n",
    "for col in categorical_columns:\n",
    "    df[col] = label_encoder.fit_transform(df[col])\n",
    "\n",
    "print(\"\\nCleaned DataFrame:\")\n",
    "print(df)"
   ]
  }
 ],
 "metadata": {
  "kernelspec": {
   "display_name": "Python 3",
   "language": "python",
   "name": "python3"
  },
  "language_info": {
   "codemirror_mode": {
    "name": "ipython",
    "version": 3
   },
   "file_extension": ".py",
   "mimetype": "text/x-python",
   "name": "python",
   "nbconvert_exporter": "python",
   "pygments_lexer": "ipython3",
   "version": "3.11.9"
  }
 },
 "nbformat": 4,
 "nbformat_minor": 2
}
